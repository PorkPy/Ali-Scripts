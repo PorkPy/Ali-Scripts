{
 "cells": [
  {
   "cell_type": "code",
   "execution_count": 1,
   "metadata": {
    "collapsed": true
   },
   "outputs": [],
   "source": [
    "import moveit_commander\n",
    "import moveit_msgs\n",
    "import scipy\n",
    "from scipy.integrate import odeint\n",
    "from scipy import signal\n",
    "import rospy"
   ]
  },
  {
   "cell_type": "code",
   "execution_count": 2,
   "metadata": {
    "collapsed": true
   },
   "outputs": [],
   "source": [
    "rospy.init_node('Manipulate2', anonymous=True)"
   ]
  },
  {
   "cell_type": "code",
   "execution_count": 3,
   "metadata": {
    "collapsed": true
   },
   "outputs": [],
   "source": [
    "import geometry_msgs.msg"
   ]
  },
  {
   "cell_type": "code",
   "execution_count": 32,
   "metadata": {},
   "outputs": [
    {
     "ename": "TypeError",
     "evalue": "unbound method set_max_velocity_scaling_factor() must be called with MoveGroupCommander instance as first argument (got nothing instead)",
     "output_type": "error",
     "traceback": [
      "\u001b[0;31m---------------------------------------------------------------------------\u001b[0m",
      "\u001b[0;31mTypeError\u001b[0m                                 Traceback (most recent call last)",
      "\u001b[0;32m<ipython-input-32-1b77cd9581cc>\u001b[0m in \u001b[0;36m<module>\u001b[0;34m()\u001b[0m\n\u001b[0;32m----> 1\u001b[0;31m \u001b[0mmoveit_commander\u001b[0m\u001b[0;34m.\u001b[0m\u001b[0mMoveGroupCommander\u001b[0m\u001b[0;34m.\u001b[0m\u001b[0mset_max_velocity_scaling_factor\u001b[0m\u001b[0;34m(\u001b[0m\u001b[0;34m)\u001b[0m\u001b[0;34m\u001b[0m\u001b[0m\n\u001b[0m",
      "\u001b[0;31mTypeError\u001b[0m: unbound method set_max_velocity_scaling_factor() must be called with MoveGroupCommander instance as first argument (got nothing instead)"
     ]
    }
   ],
   "source": [
    "moveit_commander.MoveGroupCommander.set_max_velocity_scaling_factor()"
   ]
  },
  {
   "cell_type": "code",
   "execution_count": 4,
   "metadata": {
    "collapsed": true
   },
   "outputs": [],
   "source": [
    "group = moveit_commander.MoveGroupCommander(\"manipulator\")\n",
    "robot = moveit_commander.RobotCommander()\n",
    "scene = moveit_commander.PlanningSceneInterface()   "
   ]
  },
  {
   "cell_type": "code",
   "execution_count": 19,
   "metadata": {
    "collapsed": true
   },
   "outputs": [],
   "source": [
    "a0=group.get_current_pose()"
   ]
  },
  {
   "cell_type": "code",
   "execution_count": 20,
   "metadata": {
    "scrolled": true
   },
   "outputs": [
    {
     "data": {
      "text/plain": [
       "header: \n",
       "  seq: 0\n",
       "  stamp: \n",
       "    secs: 1518684122\n",
       "    nsecs:  63889026\n",
       "  frame_id: \"/base_link\"\n",
       "pose: \n",
       "  position: \n",
       "    x: 0.410040341378\n",
       "    y: -0.0309465703511\n",
       "    z: 0.481091098792\n",
       "  orientation: \n",
       "    x: -0.646450772026\n",
       "    y: -0.000138344988622\n",
       "    z: -0.000455836922229\n",
       "    w: 0.76295555075"
      ]
     },
     "execution_count": 20,
     "metadata": {},
     "output_type": "execute_result"
    }
   ],
   "source": [
    "a0"
   ]
  },
  {
   "cell_type": "code",
   "execution_count": 15,
   "metadata": {},
   "outputs": [],
   "source": [
    "import numpy as np\n",
    "init_pose=np.array([0.41, -0.031, 0.481079, -0.63913, -0.000138344988, -0.00046901650,0.768946])"
   ]
  },
  {
   "cell_type": "code",
   "execution_count": null,
   "metadata": {
    "collapsed": true
   },
   "outputs": [],
   "source": []
  },
  {
   "cell_type": "code",
   "execution_count": 8,
   "metadata": {
    "collapsed": true
   },
   "outputs": [],
   "source": [
    "a2=group.get_current_pose()"
   ]
  },
  {
   "cell_type": "code",
   "execution_count": 9,
   "metadata": {
    "scrolled": true
   },
   "outputs": [
    {
     "data": {
      "text/plain": [
       "header: \n",
       "  seq: 0\n",
       "  stamp: \n",
       "    secs: 1518677995\n",
       "    nsecs: 123712062\n",
       "  frame_id: \"/base_link\"\n",
       "pose: \n",
       "  position: \n",
       "    x: 0.402174256002\n",
       "    y: -0.00633720819943\n",
       "    z: 0.414205519559\n",
       "  orientation: \n",
       "    x: -0.635340727417\n",
       "    y: 0.00203987729972\n",
       "    z: -0.00410450595855\n",
       "    w: 0.772218331832"
      ]
     },
     "execution_count": 9,
     "metadata": {},
     "output_type": "execute_result"
    }
   ],
   "source": [
    "a2"
   ]
  },
  {
   "cell_type": "code",
   "execution_count": 10,
   "metadata": {
    "collapsed": true
   },
   "outputs": [],
   "source": [
    "a3=group.get_current_pose()"
   ]
  },
  {
   "cell_type": "code",
   "execution_count": 11,
   "metadata": {},
   "outputs": [
    {
     "data": {
      "text/plain": [
       "header: \n",
       "  seq: 0\n",
       "  stamp: \n",
       "    secs: 1518678061\n",
       "    nsecs: 268412113\n",
       "  frame_id: \"/base_link\"\n",
       "pose: \n",
       "  position: \n",
       "    x: 0.402712920007\n",
       "    y: 0.0578272999832\n",
       "    z: 0.426780083575\n",
       "  orientation: \n",
       "    x: -0.635316088497\n",
       "    y: 0.00213182690848\n",
       "    z: -0.0041159243829\n",
       "    w: 0.772238293649"
      ]
     },
     "execution_count": 11,
     "metadata": {},
     "output_type": "execute_result"
    }
   ],
   "source": [
    "a3"
   ]
  },
  {
   "cell_type": "code",
   "execution_count": 86,
   "metadata": {
    "collapsed": true
   },
   "outputs": [],
   "source": [
    "a4=group.get_current_pose()"
   ]
  },
  {
   "cell_type": "code",
   "execution_count": 87,
   "metadata": {},
   "outputs": [
    {
     "data": {
      "text/plain": [
       "header: \n",
       "  seq: 0\n",
       "  stamp: \n",
       "    secs: 1518691311\n",
       "    nsecs: 889162063\n",
       "  frame_id: \"/base_link\"\n",
       "pose: \n",
       "  position: \n",
       "    x: 0.384353593373\n",
       "    y: 0.0624897707675\n",
       "    z: 0.281119940958\n",
       "  orientation: \n",
       "    x: -0.639059206099\n",
       "    y: 0.000164098531592\n",
       "    z: -0.00081550848792\n",
       "    w: 0.769157096514"
      ]
     },
     "execution_count": 87,
     "metadata": {},
     "output_type": "execute_result"
    }
   ],
   "source": [
    "a4"
   ]
  },
  {
   "cell_type": "code",
   "execution_count": 10,
   "metadata": {
    "collapsed": true
   },
   "outputs": [],
   "source": [
    "from geometry_msgs.msg import Pose"
   ]
  },
  {
   "cell_type": "code",
   "execution_count": 11,
   "metadata": {},
   "outputs": [],
   "source": [
    "a=Pose()"
   ]
  },
  {
   "cell_type": "code",
   "execution_count": 30,
   "metadata": {},
   "outputs": [
    {
     "data": {
      "text/plain": [
       "-0.081000000000000003"
      ]
     },
     "execution_count": 30,
     "metadata": {},
     "output_type": "execute_result"
    }
   ],
   "source": [
    "init_pose[1]-0.05"
   ]
  },
  {
   "cell_type": "code",
   "execution_count": 67,
   "metadata": {},
   "outputs": [],
   "source": [
    "a.position.x=init_pose[0]-2*1.3*1e-2#0.402712920007\n",
    "a.position.y=init_pose[1]-5.5*1e-2#0.0578272999832\n",
    "a.position.z=init_pose[2]#0.426780083575\n",
    "a.orientation.x=init_pose[3]#-0.635316088497\n",
    "a.orientation.y=init_pose[4]#0.00213182690848\n",
    "a.orientation.z=init_pose[5]#-0.0041159243829\n",
    "a.orientation.w=init_pose[6]#0.772238293649"
   ]
  },
  {
   "cell_type": "code",
   "execution_count": 54,
   "metadata": {
    "scrolled": true
   },
   "outputs": [],
   "source": [
    "init_pose3=np.array([0.41-1.3*1e-2, -0.031-5.5-1e-2, 0.481079, -0.63913, -0.000138344988, -0.00046901650,0.768946])\n",
    "init_pose4=np.array([0.41-1.3*1e-2, -0.031, 0.481079, -0.63913, -0.000138344988, -0.00046901650,0.768946])\n",
    "init_pose5=np.array([0.41-2*1.3*1e-2, -0.031, 0.481079, -0.63913, -0.000138344988, -0.00046901650,0.768946])\n",
    "init_pose6=np.array([0.41-2*1.3*1e-2, -0.031-5.5*1e-2, 0.481079, -0.63913, -0.000138344988, -0.00046901650,0.768946])"
   ]
  },
  {
   "cell_type": "code",
   "execution_count": 68,
   "metadata": {},
   "outputs": [],
   "source": [
    "group.set_pose_target(a)\n",
    "plan1 = group.plan()"
   ]
  },
  {
   "cell_type": "code",
   "execution_count": 69,
   "metadata": {},
   "outputs": [
    {
     "data": {
      "text/plain": [
       "joint_trajectory: \n",
       "  header: \n",
       "    seq: 0\n",
       "    stamp: \n",
       "      secs: 0\n",
       "      nsecs:         0\n",
       "    frame_id: \"/base_link\"\n",
       "  joint_names: [joint_1, joint_2, joint_3, joint_4, joint_5, joint_6]\n",
       "  points: \n",
       "    - \n",
       "      positions: [-0.09876371920108795, 0.05060072988271713, 0.4332180321216583, -0.2068944126367569, -0.49304503202438354, -1.2031357288360596]\n",
       "      velocities: [0.0, 0.0, 0.0, 0.0, 0.0, 0.0]\n",
       "      accelerations: [-0.5617648534120233, 0.0, 0.0, 0.0, 0.0, 0.0]\n",
       "      effort: []\n",
       "      time_from_start: \n",
       "        secs: 0\n",
       "        nsecs:         0\n",
       "    - \n",
       "      positions: [-0.11345735517969238, 0.053786819676053796, 0.4298686216515244, -0.2351951546222863, -0.49773842703566673, -1.1785082227666637]\n",
       "      velocities: [-0.11045130938429634, 0.023949673858968165, -0.025177347024960176, -0.2127352285983159, -0.03528001001309601, 0.18512370227459643]\n",
       "      accelerations: [-0.5731019956484115, 0.1242683854108724, -0.1306384496985309, -1.1038256108872344, -0.18305843776512032, 0.9605568626285284]\n",
       "      effort: []\n",
       "      time_from_start: \n",
       "        secs: 0\n",
       "        nsecs: 228719058\n",
       "    - \n",
       "      positions: [-0.1281509911582968, 0.05697290946939046, 0.42651921118139047, -0.2634958966078157, -0.5024318220469499, -1.153880716697268]\n",
       "      velocities: [-0.17885145445577114, 0.03878119713831861, -0.04076914216638553, -0.34447762784240266, -0.057128169319408686, 0.2997668709462675]\n",
       "      accelerations: [-0.5319260139487754, 0.11534000476942634, -0.12125239546228718, -1.0245184308414494, -0.16990613513730973, 0.8915431929896724]\n",
       "      effort: []\n",
       "      time_from_start: \n",
       "        secs: 0\n",
       "        nsecs: 322512541\n",
       "    - \n",
       "      positions: [-0.14284462713690124, 0.06015899926272712, 0.42316980071125654, -0.29179663859334504, -0.5071252170582332, -1.1292532106278723]\n",
       "      velocities: [-0.2202148687652184, 0.04775021966894227, -0.0501979216169103, -0.424145813287909, -0.07034034108222365, 0.36909469004020556]\n",
       "      accelerations: [-0.5702922080793532, 0.1236591260343466, -0.12999795935862032, -1.0984138072232752, -0.1821609442530368, 0.9558474727599778]\n",
       "      effort: []\n",
       "      time_from_start: \n",
       "        secs: 0\n",
       "        nsecs: 395599407\n",
       "    - \n",
       "      positions: [-0.15753826311550567, 0.06334508905606379, 0.41982039024112255, -0.32009738057887444, -0.5118186120695164, -1.1046257045584764]\n",
       "      velocities: [-0.25282012515423646, 0.05484210346900981, -0.05763083883578733, -0.4869055937731942, -0.0804881997472736, 0.4236440001991879]\n",
       "      accelerations: [-0.4969649442608054, 0.10857063347175616, -0.11330365529070366, -0.9557122563902883, -0.14886874848310538, 0.8292742698723886]\n",
       "      effort: []\n",
       "      time_from_start: \n",
       "        secs: 0\n",
       "        nsecs: 456979849\n",
       "    - \n",
       "      positions: [-0.16998474033059172, 0.06604596755175643, 0.4169831668930353, -0.34406625935147117, -0.5157692817693309, -1.0837738650973616]\n",
       "      velocities: [-0.26241275472000825, 0.05694341892657687, -0.05981801771388645, -0.5053429494607047, -0.08329313596144633, 0.43962548915755023]\n",
       "      accelerations: [0.16193611976717845, -0.035140046134897844, 0.03691397428868571, 0.3118494620228459, 0.051400577899558965, -0.27129491453600096]\n",
       "      effort: []\n",
       "      time_from_start: \n",
       "        secs: 0\n",
       "        nsecs: 503726485\n",
       "    - \n",
       "      positions: [-0.18243121754567776, 0.06874684604744907, 0.41414594354494805, -0.3680351381240679, -0.5197199514691455, -1.0629220256362468]\n",
       "      velocities: [-0.24627123176146803, 0.05345322357265336, -0.056138812093660784, -0.47423566867662015, -0.07801748383134534, 0.4125266698523983]\n",
       "      accelerations: [0.5096990227677519, -0.11008617762280269, 0.11617471977852142, 0.9824943503434745, 0.16808880010742563, -0.8562543860025541]\n",
       "      effort: []\n",
       "      time_from_start: \n",
       "        secs: 0\n",
       "        nsecs: 551862011\n",
       "    - \n",
       "      positions: [-0.1937541153790046, 0.07120511889431971, 0.4115648137578841, -0.3898380852901983, -0.5232992585132257, -1.0439580194792724]\n",
       "      velocities: [-0.22031281692434823, 0.04783130817171556, -0.05022177031057005, -0.42422609283683643, -0.069643586750157, 0.3689880168587676]\n",
       "      accelerations: [0.5294564733390037, -0.11494835431424001, 0.12069312064858503, 1.019501516740622, 0.16736769265710963, -0.886753194107155]\n",
       "      effort: []\n",
       "      time_from_start: \n",
       "        secs: 0\n",
       "        nsecs: 600256477\n",
       "    - \n",
       "      positions: [-0.20507701321233143, 0.07366339174119034, 0.40898368397082024, -0.4116410324563287, -0.5268785655573058, -1.0249940133222981]\n",
       "      velocities: [-0.19367065326244587, 0.04207361530369858, -0.04414918549023041, -0.3728769758717685, -0.06089944030743799, 0.32424686595288454]\n",
       "      accelerations: [0.4945339921048444, -0.10635753110841922, 0.11270666114575775, 0.9540830305852377, 0.16860134434196825, -0.8328294843197541]\n",
       "      effort: []\n",
       "      time_from_start: \n",
       "        secs: 0\n",
       "        nsecs: 655047862\n",
       "    - \n",
       "      positions: [-0.21415275228213987, 0.07563645329041696, 0.4069147413058031, -0.4291121164095265, -0.5297151472899173, -1.0098056737736045]\n",
       "      velocities: [-0.16656613239483542, 0.03621140148518788, -0.03797109802384957, -0.32064505826422407, -0.05205950113690469, 0.27875007827641274]\n",
       "      accelerations: [0.5145779904393217, -0.11186902126700451, 0.11730530711710348, 0.9905788611024122, 0.16082905386069324, -0.8611513820485164]\n",
       "      effort: []\n",
       "      time_from_start: \n",
       "        secs: 0\n",
       "        nsecs: 705277040\n",
       "    - \n",
       "      positions: [-0.22322849135194833, 0.07760951483964357, 0.40484579864078585, -0.44658320036272425, -0.5325517290225289, -0.994617334224911]\n",
       "      velocities: [-0.14580130695155163, 0.03171908336519275, -0.033238021207736716, -0.28063237633436333, -0.045302593148502726, 0.2439006258753446]\n",
       "      accelerations: [0.24062936615078387, -0.051517946467478676, 0.05483465256800907, 0.46465825454432746, 0.08487554056280426, -0.4062922256638386]\n",
       "      effort: []\n",
       "      time_from_start: \n",
       "        secs: 0\n",
       "        nsecs: 764811292\n",
       "    - \n",
       "      positions: [-0.23031373805648947, 0.07915207898535538, 0.40323055996235085, -0.46021847716857156, -0.5347390070039462, -0.9827702163366021]\n",
       "      velocities: [-0.1478339841529788, 0.032185668753912836, -0.033702026075957486, -0.28450065033658656, -0.045637651295295664, 0.24719063586539877]\n",
       "      accelerations: [-0.3608462673313033, 0.07856162774719623, -0.08226288685034043, -0.6944343569950193, -0.11139641682542144, 0.6033647728724254]\n",
       "      effort: []\n",
       "      time_from_start: \n",
       "        secs: 0\n",
       "        nsecs: 815726802\n",
       "    - \n",
       "      positions: [-0.2373989847610306, 0.0806946431310672, 0.40161532128391586, -0.47385375397441887, -0.5369262849853633, -0.970923098448293]\n",
       "      velocities: [-0.14532317058266425, 0.03166028663467674, -0.03313017103076752, -0.2796301930793471, -0.04460393086187515, 0.24289614170036306]\n",
       "      accelerations: [0.5254633084596668, -0.11340271596411731, 0.11976559913161952, 1.0130413861134215, 0.17436136759499696, -0.8831366225259257]\n",
       "      effort: []\n",
       "      time_from_start: \n",
       "        secs: 0\n",
       "        nsecs: 860996755\n",
       "    - \n",
       "      positions: [-0.24275040549855542, 0.08186142376739343, 0.4003953034565986, -0.48414927969849786, -0.5385576807758607, -0.9619827572724723]\n",
       "      velocities: [-0.12264729942255415, 0.026741028426430648, -0.027961152581145406, -0.23595947471283393, -0.037389377103318036, 0.204900484359569]\n",
       "      accelerations: [0.5219595223935605, -0.1138038464074489, 0.11899642238795724, 1.0041908407703668, 0.15912084087725376, -0.8720107124907898]\n",
       "      effort: []\n",
       "      time_from_start: \n",
       "        secs: 0\n",
       "        nsecs: 900892443\n",
       "    - \n",
       "      positions: [-0.24810182623608026, 0.08302820440371966, 0.3991752856292813, -0.49444480542257685, -0.5401890765663582, -0.9530424160966515]\n",
       "      velocities: [-0.10523093412968723, 0.022956137699492778, -0.023990882664261366, -0.20242985243923983, -0.031928706446111246, 0.17574760169305637]\n",
       "      accelerations: [0.2541575731314711, -0.054881439477063754, 0.05792933753042523, 0.48993549306350453, 0.08396465042133985, -0.42702001194956024]\n",
       "      effort: []\n",
       "      time_from_start: \n",
       "        secs: 0\n",
       "        nsecs: 949034358\n",
       "    - \n",
       "      positions: [-0.25258633399009695, 0.08400709328535311, 0.3981528782275229, -0.5030704556057717, -0.5415425312613957, -0.9455554632770748]\n",
       "      velocities: [-0.08329191340814743, 0.01818115441815949, -0.01898943506092403, -0.16020641451765555, -0.02513806139814194, 0.13905709615074693]\n",
       "      accelerations: [0.5727650152500849, -0.12502449231239302, 0.13058271346179567, 1.1016751290694813, 0.1728643457800445, -0.9562397661238322]\n",
       "      effort: []\n",
       "      time_from_start: \n",
       "        secs: 0\n",
       "        nsecs: 994194388\n",
       "    - \n",
       "      positions: [-0.25707084174411365, 0.08498598216698655, 0.39713047082576447, -0.5116961057889666, -0.5428959859564332, -0.9380685104574981]\n",
       "      velocities: [-0.044886201685804476, 0.009798486165063118, -0.010233465547267246, -0.08633447747907234, -0.013539408352040228, 0.07493537681906426]\n",
       "      accelerations: [0.5687194800266681, -0.12412566144864502, 0.1296599852061615, 1.0939223542323104, 0.17183511097282403, -0.9495570124859577]\n",
       "      effort: []\n",
       "      time_from_start: \n",
       "        secs: 1\n",
       "        nsecs:  60847554\n",
       "    - \n",
       "      positions: [-0.259114363157102, 0.0854321596063657, 0.3966645725843836, -0.5156264780709536, -0.5435113625107286, -0.9346573312713122]\n",
       "      velocities: [-0.04009509948725793, 0.008754265410273576, -0.00914119921639973, -0.07711623018316313, -0.01207405217766908, 0.06692935438292032]\n",
       "      accelerations: [-0.5576346955006171, 0.12175258794259862, -0.12713398661518777, -1.0725172424129, -0.16792352421257956, 0.9308401931571042]\n",
       "      effort: []\n",
       "      time_from_start: \n",
       "        secs: 1\n",
       "        nsecs: 151706419\n",
       "    - \n",
       "      positions: [-0.2611578845700903, 0.08587833704574485, 0.3961986743430027, -0.5195568503529406, -0.5441267390650242, -0.9312461520851265]\n",
       "      velocities: [-0.06469146017395405, 0.01412457430916008, -0.01474887287005832, -0.12442322372201668, -0.01948088608280213, 0.10798720339644302]\n",
       "      accelerations: [-0.43754389151018724, 0.09553225715629989, -0.09975473136023827, -0.8415426295091201, -0.13175993684187504, 0.7303767928615272]\n",
       "      effort: []\n",
       "      time_from_start: \n",
       "        secs: 1\n",
       "        nsecs: 187123325\n",
       "    - \n",
       "      positions: [-0.2632014059830786, 0.086324514485124, 0.39573277610162183, -0.5234872226349276, -0.5447421156193196, -0.9278349728989408]\n",
       "      velocities: [-0.06281945066800448, 0.013715844357739152, -0.014322077275390858, -0.12082272596014401, -0.01891715782820135, 0.10486232306856899]\n",
       "      accelerations: [0.5341472144288375, -0.1166243890916098, 0.12177912414291221, 1.0273429936913816, 0.16085061316831725, -0.891633358299011]\n",
       "      effort: []\n",
       "      time_from_start: \n",
       "        secs: 1\n",
       "        nsecs: 215630729\n",
       "    - \n",
       "      positions: [-0.265244927396067, 0.08677069192450315, 0.395266877860241, -0.5274175949169146, -0.5453574921736151, -0.924423793712755]\n",
       "      velocities: [-0.04909925222785276, 0.01072353634641415, -0.011194122028385888, -0.09442819151661402, -0.014745057517751705, 0.08194462030258354]\n",
       "      accelerations: [0.34391235458256286, -0.07485338550181252, 0.07840188099678687, 0.6618846005989287, 0.10643001534161929, -0.5751470587453158]\n",
       "      effort: []\n",
       "      time_from_start: \n",
       "        secs: 1\n",
       "        nsecs: 253505268\n",
       "    - \n",
       "      positions: [-0.26606795563854113, 0.08695051364275516, 0.3950792341990489, -0.5290003282482978, -0.5456038296575395, -0.9230505013432646]\n",
       "      velocities: [-0.046198504076849826, 0.010093814470810418, -0.01053287845933334, -0.08884253114165011, -0.013827500282557564, 0.07708611911042218]\n",
       "      accelerations: [-0.21908642845491316, 0.0478677352456203, -0.04994990139001878, -0.4213165173124286, -0.06557393387295597, 0.3655642721946746]\n",
       "      effort: []\n",
       "      time_from_start: \n",
       "        secs: 1\n",
       "        nsecs: 272107514\n",
       "    - \n",
       "      positions: [-0.2668909838810153, 0.08713033536100716, 0.3948915905378568, -0.5305830615796808, -0.545850167141464, -0.9216772089737744]\n",
       "      velocities: [-0.04248113155293934, 0.009281613527835315, -0.009685348138496936, -0.08169379784778891, -0.012714867511177699, 0.07088336802828095]\n",
       "      accelerations: [0.575127741773213, -0.12565845666383327, 0.13112438862979667, 1.1060056019111686, 0.17213931859428377, -0.9596493759251555]\n",
       "      effort: []\n",
       "      time_from_start: \n",
       "        secs: 1\n",
       "        nsecs: 289199270\n",
       "    - \n",
       "      positions: [-0.26771401212348944, 0.08731015707925915, 0.39470394687666466, -0.5321657949110639, -0.5460965046253885, -0.920303916604284]\n",
       "      velocities: [-0.025727761727811608, 0.005621204816453791, -0.00586571779161839, -0.0494760494561868, -0.007700479478063394, 0.042928950723072894]\n",
       "      accelerations: [0.5642669220858896, -0.12328549890002896, 0.12864821118592787, 1.0851195855653943, 0.1688886075533302, -0.9415271778849785]\n",
       "      effort: []\n",
       "      time_from_start: \n",
       "        secs: 1\n",
       "        nsecs: 311558857\n",
       "    - \n",
       "      positions: [-0.26853704036596354, 0.08748997879751116, 0.39451630321547254, -0.533748528242447, -0.5463428421093129, -0.9189306242347937]\n",
       "      velocities: [0.0, 0.0, 0.0, 0.0, 0.0, 0.0]\n",
       "      accelerations: [0.5213143874040806, -0.1139008894891549, 0.11885538701632742, 1.002519250850605, 0.1560326461467378, -0.869857233787565]\n",
       "      effort: []\n",
       "      time_from_start: \n",
       "        secs: 1\n",
       "        nsecs: 367750601\n",
       "multi_dof_joint_trajectory: \n",
       "  header: \n",
       "    seq: 0\n",
       "    stamp: \n",
       "      secs: 0\n",
       "      nsecs:         0\n",
       "    frame_id: ''\n",
       "  joint_names: []\n",
       "  points: []"
      ]
     },
     "execution_count": 69,
     "metadata": {},
     "output_type": "execute_result"
    }
   ],
   "source": [
    "plan1"
   ]
  },
  {
   "cell_type": "code",
   "execution_count": 70,
   "metadata": {},
   "outputs": [
    {
     "data": {
      "text/plain": [
       "True"
      ]
     },
     "execution_count": 70,
     "metadata": {},
     "output_type": "execute_result"
    }
   ],
   "source": [
    "group.go(wait=True)"
   ]
  },
  {
   "cell_type": "code",
   "execution_count": 84,
   "metadata": {},
   "outputs": [],
   "source": [
    "raster=np.array([[0.41, -0.031, 0.481079, -0.63913, -0.000138344988, -0.00046901650,0.768946],\n",
    "    [  4.10000000*1e-01,   5.45900000*1e+00,   4.81079000*1e-01, -6.39130000*1e-01,  -1.38344988*1e-04,-4.69016500*1e-04, 7.68946000*1e-01],\n",
    "    [0.41-1.3*1e-2, -0.031-5.5-1e-2, 0.481079, -0.63913, -0.000138344988, -0.00046901650,0.768946],\n",
    "    [0.41-1.3*1e-2, -0.031, 0.481079, -0.63913, -0.000138344988, -0.00046901650,0.768946],\n",
    "    [0.41-2*1.3*1e-2, -0.031, 0.481079, -0.63913, -0.000138344988, -0.00046901650,0.768946],\n",
    "    [0.41-2*1.3*1e-2, -0.031-5.5*1e-2, 0.481079, -0.63913, -0.000138344988, -0.00046901650,0.768946]])\n"
   ]
  },
  {
   "cell_type": "code",
   "execution_count": 85,
   "metadata": {
    "scrolled": true
   },
   "outputs": [
    {
     "data": {
      "text/plain": [
       "array([[  4.10000000e-01,  -3.10000000e-02,   4.81079000e-01,\n",
       "         -6.39130000e-01,  -1.38344988e-04,  -4.69016500e-04,\n",
       "          7.68946000e-01],\n",
       "       [  4.10000000e-01,   5.45900000e+00,   4.81079000e-01,\n",
       "         -6.39130000e-01,  -1.38344988e-04,  -4.69016500e-04,\n",
       "          7.68946000e-01],\n",
       "       [  3.97000000e-01,  -5.54100000e+00,   4.81079000e-01,\n",
       "         -6.39130000e-01,  -1.38344988e-04,  -4.69016500e-04,\n",
       "          7.68946000e-01],\n",
       "       [  3.97000000e-01,  -3.10000000e-02,   4.81079000e-01,\n",
       "         -6.39130000e-01,  -1.38344988e-04,  -4.69016500e-04,\n",
       "          7.68946000e-01],\n",
       "       [  3.84000000e-01,  -3.10000000e-02,   4.81079000e-01,\n",
       "         -6.39130000e-01,  -1.38344988e-04,  -4.69016500e-04,\n",
       "          7.68946000e-01],\n",
       "       [  3.84000000e-01,  -8.60000000e-02,   4.81079000e-01,\n",
       "         -6.39130000e-01,  -1.38344988e-04,  -4.69016500e-04,\n",
       "          7.68946000e-01]])"
      ]
     },
     "execution_count": 85,
     "metadata": {},
     "output_type": "execute_result"
    }
   ],
   "source": [
    "raster"
   ]
  },
  {
   "cell_type": "code",
   "execution_count": 73,
   "metadata": {
    "collapsed": true
   },
   "outputs": [],
   "source": [
    "from std_msgs.msg import Int8"
   ]
  },
  {
   "cell_type": "code",
   "execution_count": 1,
   "metadata": {
    "collapsed": true
   },
   "outputs": [],
   "source": [
    "import collections"
   ]
  },
  {
   "cell_type": "code",
   "execution_count": 11,
   "metadata": {},
   "outputs": [],
   "source": [
    "d=collections.deque([],2)"
   ]
  },
  {
   "cell_type": "code",
   "execution_count": 16,
   "metadata": {},
   "outputs": [],
   "source": [
    "d.append(1)"
   ]
  },
  {
   "cell_type": "code",
   "execution_count": 17,
   "metadata": {},
   "outputs": [
    {
     "data": {
      "text/plain": [
       "deque([10, 1])"
      ]
     },
     "execution_count": 17,
     "metadata": {},
     "output_type": "execute_result"
    }
   ],
   "source": [
    "d"
   ]
  },
  {
   "cell_type": "code",
   "execution_count": 75,
   "metadata": {},
   "outputs": [],
   "source": [
    "a=msg.Int8()"
   ]
  },
  {
   "cell_type": "code",
   "execution_count": 76,
   "metadata": {},
   "outputs": [
    {
     "data": {
      "text/plain": [
       "data: 0"
      ]
     },
     "execution_count": 76,
     "metadata": {},
     "output_type": "execute_result"
    }
   ],
   "source": [
    "a.data"
   ]
  },
  {
   "cell_type": "code",
   "execution_count": 10,
   "metadata": {
    "collapsed": true
   },
   "outputs": [],
   "source": [
    "from geometry_msgs.msg import PoseStamped"
   ]
  },
  {
   "cell_type": "code",
   "execution_count": 11,
   "metadata": {
    "collapsed": true
   },
   "outputs": [],
   "source": [
    "H=PoseStamped()"
   ]
  },
  {
   "cell_type": "code",
   "execution_count": 12,
   "metadata": {},
   "outputs": [
    {
     "data": {
      "text/plain": [
       "header: \n",
       "  seq: 0\n",
       "  stamp: \n",
       "    secs: 0\n",
       "    nsecs:         0\n",
       "  frame_id: ''\n",
       "pose: \n",
       "  position: \n",
       "    x: 0.0\n",
       "    y: 0.0\n",
       "    z: 0.0\n",
       "  orientation: \n",
       "    x: 0.0\n",
       "    y: 0.0\n",
       "    z: 0.0\n",
       "    w: 0.0"
      ]
     },
     "execution_count": 12,
     "metadata": {},
     "output_type": "execute_result"
    }
   ],
   "source": [
    "H"
   ]
  },
  {
   "cell_type": "code",
   "execution_count": 16,
   "metadata": {
    "collapsed": true
   },
   "outputs": [],
   "source": [
    "H.header.stamp=rospy.Time.now()"
   ]
  },
  {
   "cell_type": "code",
   "execution_count": 17,
   "metadata": {},
   "outputs": [
    {
     "data": {
      "text/plain": [
       "header: \n",
       "  seq: 0\n",
       "  stamp: \n",
       "    secs: 1518620590\n",
       "    nsecs: 111310958\n",
       "  frame_id: ''\n",
       "pose: \n",
       "  position: \n",
       "    x: 0.0\n",
       "    y: 0.0\n",
       "    z: 0.0\n",
       "  orientation: \n",
       "    x: 0.0\n",
       "    y: 0.0\n",
       "    z: 0.0\n",
       "    w: 0.0"
      ]
     },
     "execution_count": 17,
     "metadata": {},
     "output_type": "execute_result"
    }
   ],
   "source": [
    "H"
   ]
  },
  {
   "cell_type": "code",
   "execution_count": null,
   "metadata": {
    "collapsed": true
   },
   "outputs": [],
   "source": []
  }
 ],
 "metadata": {
  "kernelspec": {
   "display_name": "Python 2",
   "language": "python",
   "name": "python2"
  },
  "language_info": {
   "codemirror_mode": {
    "name": "ipython",
    "version": 2
   },
   "file_extension": ".py",
   "mimetype": "text/x-python",
   "name": "python",
   "nbconvert_exporter": "python",
   "pygments_lexer": "ipython2",
   "version": "2.7.14"
  }
 },
 "nbformat": 4,
 "nbformat_minor": 2
}
